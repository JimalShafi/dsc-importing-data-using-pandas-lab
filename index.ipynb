{
 "cells": [
  {
   "cell_type": "markdown",
   "metadata": {},
   "source": [
    "# Importing Data Using Pandas - Lab\n",
    "\n",
    "## Introduction\n",
    "\n",
    "In this lab, you'll get some practice with loading files with summary or metadata, and if you find that easy, the optional \"level up\" content covers loading data from a corrupted csv file.\n",
    "\n",
    "## Objectives\n",
    "You will be able to:\n",
    "\n",
    "- Use pandas to import data from a CSV and and an Excel spreadsheet  \n",
    "\n",
    "##  Loading Files with Summary or Meta Data\n",
    "\n",
    "Load either of the files `'Zipcode_Demos.csv'` or `'Zipcode_Demos.xlsx'`. What's going on with this dataset? Clean it up into a useable format and describe the nuances of how the data is currently formatted.\n",
    "\n",
    "All data files are stored in a folder titled `'Data'`."
   ]
  },
  {
   "cell_type": "code",
   "execution_count": 1,
   "metadata": {},
   "outputs": [
    {
     "name": "stdout",
     "output_type": "stream",
     "text": [
      "   0  Average Statistics Unnamed: 2 Unnamed: 3 Unnamed: 4 Unnamed: 5  \\\n",
      "0  1                 NaN          0        NaN        NaN        NaN   \n",
      "1  2   JURISDICTION NAME    10005.8        NaN        NaN        NaN   \n",
      "2  3  COUNT PARTICIPANTS        9.4        NaN        NaN        NaN   \n",
      "3  4        COUNT FEMALE        4.8        NaN        NaN        NaN   \n",
      "4  5      PERCENT FEMALE      0.404        NaN        NaN        NaN   \n",
      "\n",
      "  Unnamed: 6 Unnamed: 7 Unnamed: 8 Unnamed: 9  ... Unnamed: 37 Unnamed: 38  \\\n",
      "0        NaN        NaN        NaN        NaN  ...         NaN         NaN   \n",
      "1        NaN        NaN        NaN        NaN  ...         NaN         NaN   \n",
      "2        NaN        NaN        NaN        NaN  ...         NaN         NaN   \n",
      "3        NaN        NaN        NaN        NaN  ...         NaN         NaN   \n",
      "4        NaN        NaN        NaN        NaN  ...         NaN         NaN   \n",
      "\n",
      "  Unnamed: 39 Unnamed: 40 Unnamed: 41 Unnamed: 42 Unnamed: 43 Unnamed: 44  \\\n",
      "0         NaN         NaN         NaN         NaN         NaN         NaN   \n",
      "1         NaN         NaN         NaN         NaN         NaN         NaN   \n",
      "2         NaN         NaN         NaN         NaN         NaN         NaN   \n",
      "3         NaN         NaN         NaN         NaN         NaN         NaN   \n",
      "4         NaN         NaN         NaN         NaN         NaN         NaN   \n",
      "\n",
      "  Unnamed: 45 Unnamed: 46  \n",
      "0         NaN         NaN  \n",
      "1         NaN         NaN  \n",
      "2         NaN         NaN  \n",
      "3         NaN         NaN  \n",
      "4         NaN         NaN  \n",
      "\n",
      "[5 rows x 47 columns]\n"
     ]
    }
   ],
   "source": [
    "# Import pandas using the standard alias\n",
    "# Importing pandas using the standard alias\n",
    "import pandas as pd\n",
    "\n",
    "# Load the CSV file 'Zipcode_Demos.csv'\n",
    "zipcode_demos_csv = pd.read_csv('Data/Zipcode_Demos.csv')\n",
    "\n",
    "# Display the first few rows of the dataframe to understand its structure and contents\n",
    "print(zipcode_demos_csv.head())\n",
    "\n"
   ]
  },
  {
   "cell_type": "code",
   "execution_count": 2,
   "metadata": {},
   "outputs": [
    {
     "name": "stdout",
     "output_type": "stream",
     "text": [
      "   0  Average Statistics Unnamed: 2 Unnamed: 3 Unnamed: 4 Unnamed: 5  \\\n",
      "0  1                 NaN          0        NaN        NaN        NaN   \n",
      "1  2   JURISDICTION NAME    10005.8        NaN        NaN        NaN   \n",
      "2  3  COUNT PARTICIPANTS        9.4        NaN        NaN        NaN   \n",
      "3  4        COUNT FEMALE        4.8        NaN        NaN        NaN   \n",
      "4  5      PERCENT FEMALE      0.404        NaN        NaN        NaN   \n",
      "\n",
      "  Unnamed: 6 Unnamed: 7 Unnamed: 8 Unnamed: 9  ... Unnamed: 37 Unnamed: 38  \\\n",
      "0        NaN        NaN        NaN        NaN  ...         NaN         NaN   \n",
      "1        NaN        NaN        NaN        NaN  ...         NaN         NaN   \n",
      "2        NaN        NaN        NaN        NaN  ...         NaN         NaN   \n",
      "3        NaN        NaN        NaN        NaN  ...         NaN         NaN   \n",
      "4        NaN        NaN        NaN        NaN  ...         NaN         NaN   \n",
      "\n",
      "  Unnamed: 39 Unnamed: 40 Unnamed: 41 Unnamed: 42 Unnamed: 43 Unnamed: 44  \\\n",
      "0         NaN         NaN         NaN         NaN         NaN         NaN   \n",
      "1         NaN         NaN         NaN         NaN         NaN         NaN   \n",
      "2         NaN         NaN         NaN         NaN         NaN         NaN   \n",
      "3         NaN         NaN         NaN         NaN         NaN         NaN   \n",
      "4         NaN         NaN         NaN         NaN         NaN         NaN   \n",
      "\n",
      "  Unnamed: 45 Unnamed: 46  \n",
      "0         NaN         NaN  \n",
      "1         NaN         NaN  \n",
      "2         NaN         NaN  \n",
      "3         NaN         NaN  \n",
      "4         NaN         NaN  \n",
      "\n",
      "[5 rows x 47 columns]\n"
     ]
    }
   ],
   "source": [
    "# Import the file and print the first 5 rows\n",
    "df = pd.read_csv('Data/Zipcode_Demos.csv')\n",
    "print(df.head())\n"
   ]
  },
  {
   "cell_type": "code",
   "execution_count": 3,
   "metadata": {},
   "outputs": [
    {
     "name": "stdout",
     "output_type": "stream",
     "text": [
      "     0 Average Statistics Unnamed: 2 Unnamed: 3 Unnamed: 4 Unnamed: 5  \\\n",
      "52  53              10006          6          2       0.33          4   \n",
      "53  54              10007          1          0          0          1   \n",
      "54  55              10009          2          0          0          2   \n",
      "55  56              10010          0          0          0          0   \n",
      "56  57              10011          3          2       0.67          1   \n",
      "\n",
      "   Unnamed: 6 Unnamed: 7 Unnamed: 8 Unnamed: 9  ... Unnamed: 37 Unnamed: 38  \\\n",
      "52       0.67          0          0          6  ...           6         100   \n",
      "53          1          0          0          1  ...           1         100   \n",
      "54          1          0          0          2  ...           2         100   \n",
      "55          0          0          0          0  ...           0           0   \n",
      "56       0.33          0          0          3  ...           3         100   \n",
      "\n",
      "   Unnamed: 39 Unnamed: 40 Unnamed: 41 Unnamed: 42 Unnamed: 43 Unnamed: 44  \\\n",
      "52           0           0           6           1           0           0   \n",
      "53           1           1           0           0           0           0   \n",
      "54           0           0           2           1           0           0   \n",
      "55           0           0           0           0           0           0   \n",
      "56           0           0           3           1           0           0   \n",
      "\n",
      "   Unnamed: 45 Unnamed: 46  \n",
      "52           6         100  \n",
      "53           1         100  \n",
      "54           2         100  \n",
      "55           0           0  \n",
      "56           3         100  \n",
      "\n",
      "[5 rows x 47 columns]\n"
     ]
    }
   ],
   "source": [
    "# Print the last 5 rows of df\n",
    "print(df.tail())"
   ]
  },
  {
   "cell_type": "code",
   "execution_count": 4,
   "metadata": {},
   "outputs": [],
   "source": [
    "# What is going on with this data set? Anything unusual?\n",
    "# From the initial inspection of the dataset, a few observations can be made:\n",
    "\n",
    "#  1. **Header Issue**: The header row appears to contain summary or metadata information rather than column names. This could be an issue as it makes it difficult to analyze the data without proper column names.\n",
    "\n",
    "#  2. **NaN Values in Columns**: Several columns have NaN values (presumably where data is missing). These NaN values need to be addressed to ensure data integrity.\n",
    "\n",
    "#  3. **Multi-level Indexing**: The dataset seems to have multi-level indexing, as seen in the first few rows. This needs to be adjusted for easier data manipulation.\n",
    "\n",
    "#  4. **Data Representation**: Some entries are represented as ranges (e.g., '0-4.9%'). This format may need to be adjusted to numerical data for analysis.\n",
    "\n",
    "#  5. **Extra Rows at the Bottom**: There seem to be extra rows at the bottom of the dataset that do not contain meaningful data. These rows should be removed.\n",
    "\n",
    "#  Overall, the dataset needs cleaning and restructuring to make it usable for analysis."
   ]
  },
  {
   "cell_type": "code",
   "execution_count": 14,
   "metadata": {},
   "outputs": [],
   "source": [
    "# Clean up the dataset\n",
    "# Clean up the dataset\n",
    "\n",
    "# Drop rows with missing values\n",
    "df.dropna(inplace=True)\n",
    "\n",
    "\n",
    "\n"
   ]
  },
  {
   "cell_type": "markdown",
   "metadata": {},
   "source": [
    "## Level Up (Optional) - Loading Corrupt CSV files\n",
    "\n",
    "Occasionally, you encounter some really ill-formatted data. One example of this can be data that has strings containing commas in a csv file. Under the standard protocol, when this occurs, one is supposed to use quotes to differentiate between the commas denoting fields and the commas within those fields themselves. For example, we could have a table like this:  \n",
    "\n",
    "`ReviewerID,Rating,N_reviews,Review,VenueID\n",
    "123456,4,137,This restaurant was pretty good, we had a great time.,98765`\n",
    "\n",
    "Which should be saved like this if it were a csv (to avoid confusion with the commas in the Review text):\n",
    "`\"ReviewerID\",\"Rating\",\"N_reviews\",\"Review\",\"VenueID\"\n",
    "\"123456\",\"4\",\"137\",\"This restaurant was pretty good, we had a great time.\",\"98765\"`\n",
    "\n",
    "Attempt to import the corrupt file, or at least a small preview of it. It is appropriately titled `'Yelp_Reviews_Corrupt.csv'`. Investigate some of the intricacies of skipping rows to then pass over this error and comment on what you think is going on."
   ]
  },
  {
   "cell_type": "code",
   "execution_count": 15,
   "metadata": {},
   "outputs": [
    {
     "name": "stdout",
     "output_type": "stream",
     "text": [
      "Error occurred while loading the file: [Errno 2] No such file or directory: 'Yelp_Reviews_Corrupt.csv'\n"
     ]
    }
   ],
   "source": [
    "# Hint: Here's a useful programming pattern to use\n",
    "import pandas as pd\n",
    "\n",
    "try:\n",
    "    # Attempt to load the corrupt CSV file\n",
    "    df_corrupt = pd.read_csv('Yelp_Reviews_Corrupt.csv')\n",
    "    \n",
    "    # If loading is successful, print a small preview of the dataframe\n",
    "    print(df_corrupt.head())\n",
    "    \n",
    "except Exception as e:\n",
    "    # Handle the exception\n",
    "    print(\"Error occurred while loading the file:\", e)\n"
   ]
  },
  {
   "cell_type": "markdown",
   "metadata": {},
   "source": [
    "## Summary\n",
    "\n",
    "Congratulations, you now practiced your Pandas-importing skills."
   ]
  }
 ],
 "metadata": {
  "kernelspec": {
   "display_name": "Python 3 (ipykernel)",
   "language": "python",
   "name": "python3"
  },
  "language_info": {
   "codemirror_mode": {
    "name": "ipython",
    "version": 3
   },
   "file_extension": ".py",
   "mimetype": "text/x-python",
   "name": "python",
   "nbconvert_exporter": "python",
   "pygments_lexer": "ipython3",
   "version": "3.8.16"
  }
 },
 "nbformat": 4,
 "nbformat_minor": 4
}
